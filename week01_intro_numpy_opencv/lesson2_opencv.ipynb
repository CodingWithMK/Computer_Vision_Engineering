{
 "cells": [
  {
   "cell_type": "markdown",
   "id": "c968f4fb",
   "metadata": {},
   "source": [
    "#  Week 1 - Lesson 2 - OpenCV"
   ]
  },
  {
   "cell_type": "code",
   "execution_count": 2,
   "id": "524d570a",
   "metadata": {},
   "outputs": [],
   "source": [
    "import cv2"
   ]
  },
  {
   "cell_type": "markdown",
   "id": "c6c5d464",
   "metadata": {},
   "source": [
    "### 1. ```cv2.imread()```\n",
    "\n",
    "- Reads an image from your local disk.\n",
    "- **Signature**: ```cv2.imread(filename, flags=cv2.IMREAD_COLOR)```"
   ]
  },
  {
   "cell_type": "code",
   "execution_count": 4,
   "id": "385fbaeb",
   "metadata": {},
   "outputs": [],
   "source": [
    "img_color = cv2.imread('14-Lamborghini-Revuelto-review-UK-2024.jpg')\n",
    "img_gray = cv2.imread('14-Lamborghini-Revuelto-review-UK-2024.jpg', cv2.IMREAD_GRAYSCALE)"
   ]
  },
  {
   "cell_type": "markdown",
   "id": "b6dcfebe",
   "metadata": {},
   "source": [
    "\n",
    "### 2. ```cv2.cvtColor()```\n",
    "\n",
    "- Color space trasformations.\n",
    "- **Signature**: ```cv2.cvtColor(src, code)```"
   ]
  },
  {
   "cell_type": "code",
   "execution_count": 5,
   "id": "f1cdbb81",
   "metadata": {},
   "outputs": [],
   "source": [
    "rgb = cv2.cvtColor(img_color, cv2.COLOR_BGR2RGB)\n",
    "gray = cv2.cvtColor(img_color, cv2.COLOR_BGR2GRAY)"
   ]
  },
  {
   "cell_type": "markdown",
   "id": "c8dd94cd",
   "metadata": {},
   "source": [
    "### 3. ```cv2.imshow()```, ```cv2.waitkey()```, ```cv2.destroyAllWindows()```\n",
    "\n",
    "- Flow of displaying images in a window.\n",
    "- **Signatures**:\n",
    "    - ```cv2.imshow(winname, mat)```\n",
    "    - ```cv2.witKey(delay_ms)```\n",
    "    - ```cv2.destoryAllWindows()```"
   ]
  },
  {
   "cell_type": "code",
   "execution_count": 6,
   "id": "67fc5a83",
   "metadata": {},
   "outputs": [],
   "source": [
    "cv2.imshow(\"Color\", img_color)\n",
    "\n",
    "if cv2.waitKey(0) == ord('q'): # if key q is pressed window gets closed\n",
    "    cv2.destroyAllWindows()"
   ]
  },
  {
   "cell_type": "markdown",
   "id": "c66d1764",
   "metadata": {},
   "source": [
    "### 4. ```cv2.imwrite()```\n",
    "\n",
    "- Writes (Saves) the image to local disk.\n",
    "- **Signature**: ```cv2.imwrite(filename, img, params=None)```"
   ]
  },
  {
   "cell_type": "code",
   "execution_count": null,
   "id": "c09ed1aa",
   "metadata": {},
   "outputs": [
    {
     "data": {
      "text/plain": [
       "True"
      ]
     },
     "execution_count": 8,
     "metadata": {},
     "output_type": "execute_result"
    }
   ],
   "source": [
    "cv2.imwrite(\"gray.png\", gray)"
   ]
  },
  {
   "cell_type": "markdown",
   "id": "f39f2d78",
   "metadata": {},
   "source": [
    "> **NOTE**: As you can see in the above example, you can also save the image in other formats. The original image is in \".jpg\" format but the gray image was saved as \".png\" file."
   ]
  }
 ],
 "metadata": {
  "kernelspec": {
   "display_name": "Python 3",
   "language": "python",
   "name": "python3"
  },
  "language_info": {
   "codemirror_mode": {
    "name": "ipython",
    "version": 3
   },
   "file_extension": ".py",
   "mimetype": "text/x-python",
   "name": "python",
   "nbconvert_exporter": "python",
   "pygments_lexer": "ipython3",
   "version": "3.11.9"
  }
 },
 "nbformat": 4,
 "nbformat_minor": 5
}
