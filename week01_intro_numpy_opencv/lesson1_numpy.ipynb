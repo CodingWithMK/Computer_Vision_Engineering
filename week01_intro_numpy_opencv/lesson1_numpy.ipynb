{
 "cells": [
  {
   "cell_type": "markdown",
   "id": "3b5f7fa3",
   "metadata": {},
   "source": [
    "# Week 1 - Lesson 1 - Numpy"
   ]
  },
  {
   "cell_type": "code",
   "execution_count": 2,
   "id": "ee58d57f",
   "metadata": {},
   "outputs": [],
   "source": [
    "import numpy as np"
   ]
  },
  {
   "cell_type": "markdown",
   "id": "2433fb5a",
   "metadata": {},
   "source": [
    "### 1. ```np.array()```\n",
    "\n",
    "- Defines a **ndarray** out of a list/tuple\n",
    "- **Signature**: ```np.array(object, dtype=None, copy=True, order='K', ndmin=0)``` "
   ]
  },
  {
   "cell_type": "code",
   "execution_count": 3,
   "id": "9859baf0",
   "metadata": {},
   "outputs": [
    {
     "name": "stdout",
     "output_type": "stream",
     "text": [
      "[1. 2. 3.] float64\n",
      "[[1 2 3]\n",
      " [4 5 6]] int32 (2, 3)\n"
     ]
    }
   ],
   "source": [
    "# 1D (1 dimensional) array\n",
    "a = np.array([1, 2, 3], dtype=float)\n",
    "print(a, a.dtype)\n",
    "\n",
    "# 2D (2 dimensional) array\n",
    "b = np.array([[1, 2, 3], [4, 5, 6]], order='C')\n",
    "print(b, b.dtype, b.shape)"
   ]
  },
  {
   "cell_type": "markdown",
   "id": "8e60ec54",
   "metadata": {},
   "source": [
    "### 2. ```np.zeros()``` & ```np.ones()```\n",
    "\n",
    "- Defines an array filled with **zeros** or **ones** based on given shape.\n",
    "- **Signature**: ```np.zeros(shape, dtype=float, order='C')``` / ```np.ones(shape, dtype=None, order='C')```"
   ]
  },
  {
   "cell_type": "code",
   "execution_count": 4,
   "id": "16fba6c6",
   "metadata": {},
   "outputs": [
    {
     "name": "stdout",
     "output_type": "stream",
     "text": [
      "[[0 0 0]\n",
      " [0 0 0]] [1. 1. 1. 1.]\n"
     ]
    }
   ],
   "source": [
    "zeros = np.zeros((2, 3), dtype=int)\n",
    "ones = np.ones((4))\n",
    "print(zeros, ones)"
   ]
  },
  {
   "cell_type": "markdown",
   "id": "eaef6e3d",
   "metadata": {},
   "source": [
    "### 3. ```np.eye()```\n",
    "\n",
    "- Defines an identity matrix.\n",
    "- **Signature**: ```np.eye(N, M=None, k=0, dtype=float, order='C')```"
   ]
  },
  {
   "cell_type": "code",
   "execution_count": 6,
   "id": "26703a7a",
   "metadata": {},
   "outputs": [
    {
     "name": "stdout",
     "output_type": "stream",
     "text": [
      "[[1 0 0]\n",
      " [0 1 0]\n",
      " [0 0 1]] [[0. 1. 0.]\n",
      " [0. 0. 1.]\n",
      " [0. 0. 0.]]\n"
     ]
    }
   ],
   "source": [
    "I = np.eye(3, dtype=int)\n",
    "I2 = np.eye(3, 3, k=1)\n",
    "print(I, I2)"
   ]
  },
  {
   "cell_type": "markdown",
   "id": "f98e1e6a",
   "metadata": {},
   "source": [
    "### 4. ```reshape()```, ```T``` (transpose)\n",
    "\n",
    "- Reshapes the array and gets transposed\n",
    "- **Signature**: ```a.reshape(newshape) / a.T```"
   ]
  },
  {
   "cell_type": "code",
   "execution_count": 7,
   "id": "e21dc362",
   "metadata": {},
   "outputs": [
    {
     "name": "stdout",
     "output_type": "stream",
     "text": [
      "[[0 1 2 3 4]\n",
      " [5 6 7 8 9]]\n",
      "[[0 5]\n",
      " [1 6]\n",
      " [2 7]\n",
      " [3 8]\n",
      " [4 9]]\n"
     ]
    }
   ],
   "source": [
    "A = np.arange(10)\n",
    "B = A.reshape(2, 5)\n",
    "print(B)\n",
    "print(B.T)"
   ]
  },
  {
   "cell_type": "markdown",
   "id": "dcf05f39",
   "metadata": {},
   "source": [
    "### 5. Scalar & Matrix Multiplication: ```np.dot()``` / ```np.matmul()```\n",
    "\n",
    "- Scalar, vector or matrix multiplication\n",
    "- **Signature**: np.dot(a, b, out=None) / np.matmul(a, b, out=None)"
   ]
  },
  {
   "cell_type": "code",
   "execution_count": 7,
   "id": "c87787b8",
   "metadata": {},
   "outputs": [
    {
     "name": "stdout",
     "output_type": "stream",
     "text": [
      "32\n",
      "[ 8 26 44]\n"
     ]
    }
   ],
   "source": [
    "x = np.array([1, 2, 3])\n",
    "y = np.array([4, 5, 6])\n",
    "print(np.dot(x, y)) # Scalar inner product\n",
    "\n",
    "M = np.arange(9).reshape(3, 3)\n",
    "print(np.matmul(M, x))"
   ]
  },
  {
   "cell_type": "markdown",
   "id": "1c456d4a",
   "metadata": {},
   "source": [
    "### 6. Random Matrix: ```np.random.rand()```\n",
    "\n",
    "- Uniform distribution in the range of [0, 1)\n",
    "- **Signature**: ```np.random.rand(d0, d1, ..., dn)```"
   ]
  },
  {
   "cell_type": "code",
   "execution_count": 8,
   "id": "95eebb9e",
   "metadata": {},
   "outputs": [
    {
     "name": "stdout",
     "output_type": "stream",
     "text": [
      "[[0.29503822 0.0408498 ]\n",
      " [0.05909694 0.79357084]]\n"
     ]
    }
   ],
   "source": [
    "R = np.random.rand(2, 2)\n",
    "print(R)"
   ]
  },
  {
   "cell_type": "markdown",
   "id": "38a058cc",
   "metadata": {},
   "source": [
    "### 7. Determinant & Inverse: ```np.linlg.det()``` / ```np.linlg.inv()```\n",
    "\n",
    "- Calculates the determinant and inverse of the given matrix\n",
    "- **Signature**: ```np.linlg.det(a)``` / ```np.linglg.inv(a)```"
   ]
  },
  {
   "cell_type": "code",
   "execution_count": 9,
   "id": "61b42079",
   "metadata": {},
   "outputs": [
    {
     "name": "stdout",
     "output_type": "stream",
     "text": [
      "det= -2.0000000000000004\n",
      "inv= [[-2.   1. ]\n",
      " [ 1.5 -0.5]]\n"
     ]
    }
   ],
   "source": [
    "A = np.array([[1, 2], [3, 4]])\n",
    "print(\"det=\", np.linalg.det(A))\n",
    "print(\"inv=\", np.linalg.inv(A))"
   ]
  },
  {
   "cell_type": "code",
   "execution_count": null,
   "id": "a8f025d8",
   "metadata": {},
   "outputs": [],
   "source": []
  }
 ],
 "metadata": {
  "kernelspec": {
   "display_name": "Python 3",
   "language": "python",
   "name": "python3"
  },
  "language_info": {
   "codemirror_mode": {
    "name": "ipython",
    "version": 3
   },
   "file_extension": ".py",
   "mimetype": "text/x-python",
   "name": "python",
   "nbconvert_exporter": "python",
   "pygments_lexer": "ipython3",
   "version": "3.11.9"
  }
 },
 "nbformat": 4,
 "nbformat_minor": 5
}
